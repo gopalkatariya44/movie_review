{
 "cells": [
  {
   "cell_type": "code",
   "execution_count": null,
   "id": "09ae9b52-bc28-4774-aced-9e2feb2e6a8a",
   "metadata": {
    "scrolled": true
   },
   "outputs": [],
   "source": [
    "!pip install requests\n",
    "!pip install pandas"
   ]
  },
  {
   "cell_type": "code",
   "execution_count": null,
   "id": "7e8c6025-a091-429e-8376-178f76ca1266",
   "metadata": {},
   "outputs": [],
   "source": [
    "import requests\n",
    "import pandas as pd"
   ]
  },
  {
   "cell_type": "code",
   "execution_count": null,
   "id": "aa04e8ce-8d06-4299-bb09-068aa966d46e",
   "metadata": {},
   "outputs": [],
   "source": [
    "def movies_url(no):\n",
    "    return f\"https://api.themoviedb.org/3/movie/top_rated?api_key=8265bd1679663a7ea12ac168da84d2e8&language=en-US&page={no}\""
   ]
  },
  {
   "cell_type": "code",
   "execution_count": null,
   "id": "cf12c51e-188d-43a8-ad08-cc7b568283f1",
   "metadata": {},
   "outputs": [],
   "source": [
    "def get_genres(ids):\n",
    "    genres = [{\"id\":28,\"name\":\"Action\"},{\"id\":12,\"name\":\"Adventure\"},{\"id\":16,\"name\":\"Animation\"},{\"id\":35,\"name\":\"Comedy\"},{\"id\":80,\"name\":\"Crime\"},\n",
    "          {\"id\":99,\"name\":\"Documentary\"},{\"id\":18,\"name\":\"Drama\"},{\"id\":10751,\"name\":\"Family\"},{\"id\":14,\"name\":\"Fantasy\"},{\"id\":36,\"name\":\"History\"},\n",
    "          {\"id\":27,\"name\":\"Horror\"},{\"id\":10402,\"name\":\"Music\"},{\"id\":9648,\"name\":\"Mystery\"},{\"id\":10749,\"name\":\"Romance\"},{\"id\":878,\"name\":\"Science Fiction\"},\n",
    "          {\"id\":10770,\"name\":\"TV Movie\"},{\"id\":53,\"name\":\"Thriller\"},{\"id\":10752,\"name\":\"War\"},{\"id\":37,\"name\":\"Western\"}]\n",
    "    gen = \"\"\n",
    "    for i in genres:\n",
    "        if i['id'] in ids:\n",
    "            gen += f\"{i['name']}, \"\n",
    "    return gen.strip()[:-1]"
   ]
  },
  {
   "cell_type": "code",
   "execution_count": null,
   "id": "8995d856-1012-4468-8fb9-7eb51a6da5e8",
   "metadata": {},
   "outputs": [],
   "source": [
    "df = pd.DataFrame(columns=['name','desc','genre'])"
   ]
  },
  {
   "cell_type": "code",
   "execution_count": null,
   "id": "a966d01d-e627-4534-820d-1853166d01de",
   "metadata": {
    "scrolled": true
   },
   "outputs": [],
   "source": [
    "for i in range(1, 451): #451\n",
    "    headers = {\"accept\": \"application/json\"}\n",
    "    response = requests.get(movies_url(i), headers=headers)\n",
    "    res = response.json()\n",
    "    for movies in res['results']:\n",
    "        df.loc[len(df.index)] = [movies['original_title'], movies['overview'], get_genres(movies['genre_ids'])]"
   ]
  },
  {
   "cell_type": "code",
   "execution_count": null,
   "id": "5bfa8bef-d272-4815-90d6-634491da1029",
   "metadata": {},
   "outputs": [],
   "source": [
    "df['desc']"
   ]
  },
  {
   "cell_type": "code",
   "execution_count": null,
   "id": "5f4e39ac-6b19-42e3-800e-70709c0cb209",
   "metadata": {},
   "outputs": [],
   "source": [
    "df.to_csv('movies_review_dataset.csv', header=False, index=False)"
   ]
  }
 ],
 "metadata": {
  "kernelspec": {
   "display_name": "Python 3 (ipykernel)",
   "language": "python",
   "name": "python3"
  },
  "language_info": {
   "codemirror_mode": {
    "name": "ipython",
    "version": 3
   },
   "file_extension": ".py",
   "mimetype": "text/x-python",
   "name": "python",
   "nbconvert_exporter": "python",
   "pygments_lexer": "ipython3",
   "version": "3.9.18"
  }
 },
 "nbformat": 4,
 "nbformat_minor": 5
}
